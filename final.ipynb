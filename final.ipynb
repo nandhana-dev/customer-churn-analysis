{
  "nbformat": 4,
  "nbformat_minor": 0,
  "metadata": {
    "colab": {
      "provenance": []
    },
    "kernelspec": {
      "name": "python3",
      "display_name": "Python 3"
    },
    "language_info": {
      "name": "python"
    }
  },
  "cells": [
    {
      "cell_type": "code",
      "execution_count": null,
      "metadata": {
        "colab": {
          "base_uri": "https://localhost:8080/"
        },
        "id": "O9wHgujWcY09",
        "outputId": "9fefd063-2eda-4e2f-80f0-2b786b6a30fe"
      },
      "outputs": [
        {
          "output_type": "stream",
          "name": "stdout",
          "text": [
            "Archive:  online_retail_customers.zip\n",
            "  inflating: online_retail_customer_churn.csv  \n"
          ]
        }
      ],
      "source": [
        "!unzip online_retail_customers.zip"
      ]
    },
    {
      "cell_type": "code",
      "source": [
        "import pandas as pd\n",
        "\n",
        "# Use the exact filename from the unzip command's output\n",
        "df_transactions = pd.read_csv('online_retail_customer_churn.csv')\n",
        "\n",
        "# Display the first few rows and column information\n",
        "print(\"Data loaded successfully.\")\n",
        "print(\"\\nFirst 5 rows of the data:\")\n",
        "print(df_transactions.head())\n",
        "print(\"\\nData Information:\")\n",
        "print(df_transactions.info())"
      ],
      "metadata": {
        "colab": {
          "base_uri": "https://localhost:8080/"
        },
        "id": "QG6XVE2zcl96",
        "outputId": "d66d160a-cd20-463f-ff14-4e144fae116f"
      },
      "execution_count": null,
      "outputs": [
        {
          "output_type": "stream",
          "name": "stdout",
          "text": [
            "Data loaded successfully.\n",
            "\n",
            "First 5 rows of the data:\n",
            "   Customer_ID  Age Gender  Annual_Income  Total_Spend  Years_as_Customer  \\\n",
            "0            1   62  Other          45.15      5892.58                  5   \n",
            "1            2   65   Male          79.51      9025.47                 13   \n",
            "2            3   18   Male          29.19       618.83                 13   \n",
            "3            4   21  Other          79.63      9110.30                  3   \n",
            "4            5   21  Other          77.66      5390.88                 15   \n",
            "\n",
            "   Num_of_Purchases  Average_Transaction_Amount  Num_of_Returns  \\\n",
            "0                22                      453.80               2   \n",
            "1                77                       22.90               2   \n",
            "2                71                       50.53               5   \n",
            "3                33                      411.83               5   \n",
            "4                43                      101.19               3   \n",
            "\n",
            "   Num_of_Support_Contacts  Satisfaction_Score  Last_Purchase_Days_Ago  \\\n",
            "0                        0                   3                     129   \n",
            "1                        2                   3                     227   \n",
            "2                        2                   2                     283   \n",
            "3                        3                   5                     226   \n",
            "4                        0                   5                     242   \n",
            "\n",
            "   Email_Opt_In Promotion_Response  Target_Churn  \n",
            "0          True          Responded          True  \n",
            "1         False          Responded         False  \n",
            "2         False          Responded          True  \n",
            "3          True            Ignored          True  \n",
            "4         False       Unsubscribed         False  \n",
            "\n",
            "Data Information:\n",
            "<class 'pandas.core.frame.DataFrame'>\n",
            "RangeIndex: 1000 entries, 0 to 999\n",
            "Data columns (total 15 columns):\n",
            " #   Column                      Non-Null Count  Dtype  \n",
            "---  ------                      --------------  -----  \n",
            " 0   Customer_ID                 1000 non-null   int64  \n",
            " 1   Age                         1000 non-null   int64  \n",
            " 2   Gender                      1000 non-null   object \n",
            " 3   Annual_Income               1000 non-null   float64\n",
            " 4   Total_Spend                 1000 non-null   float64\n",
            " 5   Years_as_Customer           1000 non-null   int64  \n",
            " 6   Num_of_Purchases            1000 non-null   int64  \n",
            " 7   Average_Transaction_Amount  1000 non-null   float64\n",
            " 8   Num_of_Returns              1000 non-null   int64  \n",
            " 9   Num_of_Support_Contacts     1000 non-null   int64  \n",
            " 10  Satisfaction_Score          1000 non-null   int64  \n",
            " 11  Last_Purchase_Days_Ago      1000 non-null   int64  \n",
            " 12  Email_Opt_In                1000 non-null   bool   \n",
            " 13  Promotion_Response          1000 non-null   object \n",
            " 14  Target_Churn                1000 non-null   bool   \n",
            "dtypes: bool(2), float64(3), int64(8), object(2)\n",
            "memory usage: 103.6+ KB\n",
            "None\n"
          ]
        }
      ]
    },
    {
      "cell_type": "code",
      "source": [
        "import pandas as pd\n",
        "from sklearn.model_selection import train_test_split\n",
        "from xgboost import XGBClassifier\n",
        "from sklearn.metrics import accuracy_score, precision_score, recall_score, f1_score\n",
        "\n",
        "# Assuming df_transactions is already loaded\n",
        "\n",
        "# Select all relevant features\n",
        "numerical_features = ['Age', 'Annual_Income', 'Total_Spend', 'Years_as_Customer',\n",
        "                      'Num_of_Purchases', 'Average_Transaction_Amount', 'Num_of_Returns',\n",
        "                      'Num_of_Support_Contacts', 'Satisfaction_Score', 'Last_Purchase_Days_Ago']\n",
        "\n",
        "categorical_features = ['Gender', 'Promotion_Response']\n",
        "\n",
        "# One-hot encode categorical features\n",
        "X_categorical = pd.get_dummies(df_transactions[categorical_features], drop_first=True)\n",
        "\n",
        "# Combine all features\n",
        "X = pd.concat([df_transactions[numerical_features], X_categorical], axis=1)\n",
        "y = df_transactions['Target_Churn']\n",
        "\n",
        "# Split the data\n",
        "X_train, X_test, y_train, y_test = train_test_split(X, y, test_size=0.2, random_state=42)\n",
        "\n",
        "print(\"All features prepared successfully.\")"
      ],
      "metadata": {
        "colab": {
          "base_uri": "https://localhost:8080/"
        },
        "id": "5qDOM8zJdL1R",
        "outputId": "274a8ebf-98b1-422e-c811-596235aa444d"
      },
      "execution_count": null,
      "outputs": [
        {
          "output_type": "stream",
          "name": "stdout",
          "text": [
            "All features prepared successfully.\n"
          ]
        }
      ]
    },
    {
      "cell_type": "code",
      "source": [
        "# Create and train the XGBoost model on the full feature set\n",
        "xgb_model = XGBClassifier(\n",
        "    n_estimators=100,\n",
        "    learning_rate=0.1,\n",
        "    use_label_encoder=False,\n",
        "    eval_metric='logloss',\n",
        "    random_state=42\n",
        ")\n",
        "xgb_model.fit(X_train, y_train)\n",
        "\n",
        "# Make predictions on the test set\n",
        "y_pred_xgb = xgb_model.predict(X_test)\n",
        "\n",
        "# Print the final performance metrics\n",
        "print(\"\\nFinal XGBoost Model Metrics with ALL Features:\")\n",
        "print(f\"Accuracy: {accuracy_score(y_test, y_pred_xgb):.4f}\")\n",
        "print(f\"Precision: {precision_score(y_test, y_pred_xgb):.4f}\")\n",
        "print(f\"Recall: {recall_score(y_test, y_pred_xgb):.4f}\")\n",
        "print(f\"F1-Score: {f1_score(y_test, y_pred_xgb):.4f}\")"
      ],
      "metadata": {
        "colab": {
          "base_uri": "https://localhost:8080/"
        },
        "id": "jht2uI0gdR2o",
        "outputId": "6f3adae2-94fe-45ac-9da8-54b93708cbf2"
      },
      "execution_count": null,
      "outputs": [
        {
          "output_type": "stream",
          "name": "stdout",
          "text": [
            "\n",
            "Final XGBoost Model Metrics with ALL Features:\n",
            "Accuracy: 0.5000\n",
            "Precision: 0.5246\n",
            "Recall: 0.6038\n",
            "F1-Score: 0.5614\n"
          ]
        },
        {
          "output_type": "stream",
          "name": "stderr",
          "text": [
            "/usr/local/lib/python3.12/dist-packages/xgboost/training.py:183: UserWarning: [06:57:29] WARNING: /workspace/src/learner.cc:738: \n",
            "Parameters: { \"use_label_encoder\" } are not used.\n",
            "\n",
            "  bst.update(dtrain, iteration=i, fobj=obj)\n"
          ]
        }
      ]
    },
    {
      "cell_type": "code",
      "source": [
        "# Clone the repository\n",
        "!git clone https://github.com/nandhana-dev/customer-churn-analysis.git"
      ],
      "metadata": {
        "colab": {
          "base_uri": "https://localhost:8080/"
        },
        "id": "AggIGkUymA3L",
        "outputId": "0abc197e-2f1f-4423-8790-87fbc2d95407"
      },
      "execution_count": null,
      "outputs": [
        {
          "output_type": "stream",
          "name": "stdout",
          "text": [
            "Cloning into 'customer-churn-analysis'...\n",
            "remote: Enumerating objects: 5, done.\u001b[K\n",
            "remote: Counting objects: 100% (5/5), done.\u001b[K\n",
            "remote: Compressing objects: 100% (5/5), done.\u001b[K\n",
            "remote: Total 5 (delta 0), reused 0 (delta 0), pack-reused 0 (from 0)\u001b[K\n",
            "Receiving objects: 100% (5/5), done.\n"
          ]
        }
      ]
    },
    {
      "cell_type": "code",
      "source": [
        "%cd /content/customer-churn-analysis/customer-churn-analysis"
      ],
      "metadata": {
        "colab": {
          "base_uri": "https://localhost:8080/"
        },
        "id": "H2Eu7-ZcmMVr",
        "outputId": "67aeb42d-056d-4a8a-a9b7-d785fc9d547e"
      },
      "execution_count": 11,
      "outputs": [
        {
          "output_type": "stream",
          "name": "stdout",
          "text": [
            "/content/customer-churn-analysis/customer-churn-analysis\n"
          ]
        }
      ]
    },
    {
      "cell_type": "code",
      "source": [
        "!find /content -name \"*.ipynb\"\n"
      ],
      "metadata": {
        "id": "DRPT7wF6o0um"
      },
      "execution_count": 15,
      "outputs": []
    }
  ]
}